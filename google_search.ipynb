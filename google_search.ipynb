{
 "cells": [
  {
   "cell_type": "code",
   "execution_count": 1,
   "metadata": {},
   "outputs": [],
   "source": [
    "from googlesearch import search\n",
    "from newspaper import Article \n",
    "import requests\n",
    "from bs4 import BeautifulSoup\n",
    "from gensim.summarization.summarizer import summarize\n",
    "from gensim.summarization.textcleaner import split_sentences\n",
    "import time\n",
    "\n"
   ]
  },
  {
   "cell_type": "code",
   "execution_count": 2,
   "metadata": {},
   "outputs": [
    {
     "name": "stdout",
     "output_type": "stream",
     "text": [
      "Enter your queryCovid-19\n"
     ]
    }
   ],
   "source": [
    "query=input(\"Enter your query: \")\n",
    "headers = {'user-agent': 'Mozilla/5.0 (Windows NT 10.0; Win64; x64) AppleWebKit/537.36 (KHTML, like Gecko) Chrome/88.0.4324.104 Safari/537.36'}\n"
   ]
  },
  {
   "cell_type": "code",
   "execution_count": 3,
   "metadata": {},
   "outputs": [
    {
     "name": "stdout",
     "output_type": "stream",
     "text": [
      "https://www.ndtv.com/india-news/latest-news-live-updates-over-77-66-lakh-healthcare-frontline-workers-vaccinated-against-covid-19-says-centre-2369586\n",
      "https://www.hindustantimes.com/cities/mumbai-news/maharashtra-sees-sharp-spike-in-cases-since-wednesday-as-tally-nears-2-1-million-101613186231559.html\n"
     ]
    }
   ],
   "source": [
    "corpus=''\n",
    "for i in search(query,tld=\"com\",num=1,stop=2,pause=2.0):\n",
    "    print(i)\n",
    "    res = requests.get(i,headers=headers)\n",
    "    html_page = res.content\n",
    "    soup = BeautifulSoup(html_page, 'html.parser')\n",
    "    t=soup.find_all('p')\n",
    "    for summary in t:\n",
    "        corpus = corpus+\" \"+summary.text\n",
    "#you can also use article newspaper to extract\n",
    "#     article=Article(i,headers=headers)\n",
    "#     article.download()\n",
    "#     article.parse()\n",
    "#     corpus=corpus +\" \"+ article.text\n",
    "# time.sleep(3"
   ]
  },
  {
   "cell_type": "code",
   "execution_count": 4,
   "metadata": {
    "scrolled": true
   },
   "outputs": [
    {
     "name": "stdout",
     "output_type": "stream",
     "text": [
      " Coronavirus Vaccination Updates: India's total active number of Covid cases has seen a sharp decline. India's tally of COVID-19 cases rose to 1,08,92,746 with 12,143 new infections being reported in a day, while the recoveries crossed 1.06 crore, according to Union Health Ministry data updated on Saturday. The death count increased to 1,55,550 with 103 daily new fatalities, data updated at 8 am showed.    Meanwhile, The second dose of the Covid vaccine will be administered today to those who took the first shot on Day 1 of the nationwide inoculation drive on January 16. AIIMS chief Dr Randeep Guleria and NITI Aayog's VK Paul, who were among the first to take the jab, are expected to receive the second shot, which needs to be taken 28 days after the first one. Over 77 lakh healthcare and frontline workers have received the first dose of the vaccine till Friday, the government said, adding that 97 per cent people of the beneficiaries are \"satisfied\". India has set a target of inoculating 30 crore people against COVID-19 by July. Track Latest News Live on NDTV.com. Follow our special coverage of Coronavirus pandemic in India and get news updates from around the world. Watch Live News: Follow Us: ................................ Advertisement ................................ Maharashtra registered 20,590 coronavirus disease (Covid-19) cases from February 6 to February 12 out of which 169 people lost their lives while over 20,200 have recovered. The state’s weekly average of Covid-19 cases stood at 2,941 and there has been a sharp increase in the daily tally since Wednesday (February 10). The total caseload is nearing 2.1 million and the recoveries stand at 1,972,475. The rising graph happens to coincide with the unlocking the state has effected. Schools are gradually reopening in the state and Mumbai locals have been thrown open for all with time restrictions from February 1. As many as 3,451 cases were added on Wednesday; 3,297 on Thursday and 3,670 cases were added on Friday recording the highest during the week. Friday also saw the highest deaths of the week (36 ), which pushed the overall toll to 51,451. On February 8, Maharashtra recorded the lowest number of Covid-29 cases (2,216) and deaths (15) in this week. Meanwhile, the highest number of recoveries from Covid-19 for the week was on Thursday (February 11) when 6,107 people got cured/discharged/recovered. Also Read| Vaccination day 29: Healthcare workers to get 2nd shot beginning from today Since the start of the pandemic in India in January last year, Maharashtra has been among the worst-affected states. According to the Union health ministry, the state is the second-highest contributor to India’s daily caseload. In September last year, the daily cases exceeded 18,000 and the highest ever surge was on September 10, when 23,446 Covid-19 cases were reported. However, as Covid-19 started receding nationwide, Maharashtra too was seeing an improvement in the overall situation. On October 6, 2020, 10,244 cases were reported which had been the lowest in the preceding two months. From there, the Covid-19 cases further went down and just over 1,924 cases were seen on January 18 this year, which had been the lowest since May 2020. But the Covid-19 curve in Maharashtra is on the rise again since the beginning of February. As many as 608,570 people have been administered Covid-19 vaccine doses till now in the state with 34,889 people vaccinated on Thursday. Chief minister Uddhav Thackeray said on Thursday mobile laboratories for testing Covid-19 would be made available across the state. These labs could conduct 3,000 tests per day and reports would be available in 24 hours, he added. Amid the wake of the new Covid-19 strain from countries such as the United Kingdom (UK) and South Africa, Thackeray said the government would continue to prioritise tracing and treatment of infected patients. Get our daily newsletter in your inbox  Get our daily newsletter in your inbox  Get our daily newsletter in your inbox  Get our daily newsletter in your inbox  Get our daily newsletter in your inbox  Get our daily newsletter in your inbox  Get our daily newsletter in your inbox  Get our daily newsletter in your inbox  Get our daily newsletter in your inbox  Get our daily newsletter in your inbox  Get our daily newsletter in your inbox  Get our daily newsletter in your inbox  Get our daily newsletter in your inbox  Get our daily newsletter in your inbox  Get our daily newsletter in your inbox  Get our daily newsletter in your inbox  Get free access to newsletters, alerts and recommendations\n"
     ]
    }
   ],
   "source": [
    "#summarise text with gensim library\n",
    "def f(seq):\n",
    "    seen = set()\n",
    "    return [x for x in seq if x not in seen and not seen.add(x)]\n",
    "\n",
    "def summary(x, perc):\n",
    "    if len(split_sentences(x)) > 500:\n",
    "        test_summary = summarize(x, ratio = perc, split=True)\n",
    "        test_summary = '\\n'.join(map(str, f(test_summary)))\n",
    "    else:\n",
    "        test_summary = x\n",
    "    return test_summary\n",
    "   \n",
    "mys = summary(corpus, 0.1)\n",
    "print(mys)"
   ]
  },
  {
   "cell_type": "code",
   "execution_count": null,
   "metadata": {},
   "outputs": [],
   "source": []
  },
  {
   "cell_type": "code",
   "execution_count": null,
   "metadata": {},
   "outputs": [],
   "source": []
  }
 ],
 "metadata": {
  "kernelspec": {
   "display_name": "Python 3",
   "language": "python",
   "name": "python3"
  },
  "language_info": {
   "codemirror_mode": {
    "name": "ipython",
    "version": 3
   },
   "file_extension": ".py",
   "mimetype": "text/x-python",
   "name": "python",
   "nbconvert_exporter": "python",
   "pygments_lexer": "ipython3",
   "version": "3.8.5"
  }
 },
 "nbformat": 4,
 "nbformat_minor": 4
}
